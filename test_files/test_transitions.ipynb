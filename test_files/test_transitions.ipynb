{
 "cells": [
  {
   "cell_type": "code",
   "execution_count": null,
   "id": "a588fae0-a82d-40cd-b6f7-3146b9e28620",
   "metadata": {},
   "outputs": [],
   "source": [
    "import rclpy\n",
    "from rclpy.node import Node\n",
    "import smach\n",
    "from state_machines_and_behaviour_trees import MonitorBatteryAndCollision, RotateBase, StopMotion, Rotate, BatteryStatus2bb, LaserScan2bb\n",
    "\n",
    "import unittest\n",
    "from unittest.mock import MagicMock\n",
    "\n",
    "rclpy.init(args=None)\n"
   ]
  },
  {
   "cell_type": "code",
   "execution_count": null,
   "id": "57cc7dc7-b06a-4e21-b6e3-fdebe2d21ff2",
   "metadata": {},
   "outputs": [],
   "source": [
    "class TestStateMachine(unittest.TestCase):\n",
    "    def setUp(self):\n",
    "        self.node = MagicMock()\n",
    "        self.sm = smach.StateMachine(outcomes=['battery_low', 'collision_detected', 'all_safe'])\n",
    "        with self.sm:\n",
    "            smach.StateMachine.add('MONITOR', MonitorBatteryAndCollision(self.node),\n",
    "                                   transitions={'safe': 'ROTATE_BASE', \n",
    "                                                'low_battery': 'battery_low', \n",
    "                                                'collision': 'collision_detected'})\n",
    "            smach.StateMachine.add('ROTATE_BASE', RotateBase(self.node),\n",
    "                                   transitions={'rotated': 'STOP_MOTION', \n",
    "                                                'failed': 'collision_detected'})\n",
    "            smach.StateMachine.add('STOP_MOTION', StopMotion(self.node),\n",
    "                                   transitions={'stopped': 'all_safe'})\n",
    "\n",
    "    def test_initial_state(self):\n",
    "        self.assertEqual(self.sm.get_initial_states(), ['MONITOR'])\n",
    "\n",
    "    def test_transition_monitor_to_rotate(self):\n",
    "        state = MonitorBatteryAndCollision(self.node)\n",
    "        state.execute = MagicMock(return_value='safe')\n",
    "        self.sm.set_initial_state(['MONITOR'])\n",
    "        outcome = self.sm.execute()\n",
    "        self.assertEqual(outcome, 'all_safe')\n",
    "\n",
    "    def test_transition_monitor_to_battery(self):\n",
    "        state = MonitorBatteryAndCollision(self.node)\n",
    "        state.execute = MagicMock(return_value='low_battery')\n",
    "        self.sm.set_initial_state(['MONITOR'])\n",
    "        outcome = self.sm.execute()\n",
    "        self.assertEqual(outcome, 'battery_low')\n",
    "\n",
    "    def test_transition_monitor_to_collision(self):\n",
    "        state = MonitorBatteryAndCollision(self.node)\n",
    "        state.execute = MagicMock(return_value='collision')\n",
    "        self.sm.set_initial_state(['MONITOR'])\n",
    "        outcome = self.sm.execute()\n",
    "        self.assertEqual(outcome, 'collision_detected')\n",
    "\n",
    "if __name__ == '__main__':\n",
    "    unittest.main(argv=[''], exit=False)\n"
   ]
  },
  {
   "cell_type": "code",
   "execution_count": null,
   "id": "d413cbb3-b899-474b-8e17-ab558177245b",
   "metadata": {},
   "outputs": [],
   "source": []
  },
  {
   "cell_type": "code",
   "execution_count": null,
   "id": "84a3e978-55b2-4d13-afa2-f0c411cd6b04",
   "metadata": {},
   "outputs": [],
   "source": []
  }
 ],
 "metadata": {
  "kernelspec": {
   "display_name": "Python 3 (ipykernel)",
   "language": "python",
   "name": "python3"
  },
  "language_info": {
   "codemirror_mode": {
    "name": "ipython",
    "version": 3
   },
   "file_extension": ".py",
   "mimetype": "text/x-python",
   "name": "python",
   "nbconvert_exporter": "python",
   "pygments_lexer": "ipython3",
   "version": "3.10.12"
  }
 },
 "nbformat": 4,
 "nbformat_minor": 5
}
